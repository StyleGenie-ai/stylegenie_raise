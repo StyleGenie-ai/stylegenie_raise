{
 "cells": [
  {
   "cell_type": "code",
   "execution_count": 32,
   "metadata": {},
   "outputs": [
    {
     "name": "stdout",
     "output_type": "stream",
     "text": [
      "#### DONE ####\n",
      "\n",
      " {'Sneakers': 40, 'Coat': 10, 'Shirt': 51, 'Scarf': 4, 'Hoodie': 14, 'Sweatshirt': 2, 'T-shirt': 59, 'Sweatpants': 4, 'Shorts': 54, 'Polo': 7, 'Top': 6, 'Cap': 11, 'Blazer': 19, 'Trousers': 35, 'Collar': 0, 'Jacket': 41, 'Backpack': 3, 'Loafers': 6, 'Sandals': 0, 'Bracelet': 0, 'Briefs': 16, 'Suitcase': 7, 'Cardigan': 5, 'Sweater': 13, 'Jeans': 10, 'Balaclava': 0, 'Turtleneck': 0, 'Vest': 1, 'Tote': 6, 'Belt': 2, 'Wallet': 10, 'Tie': 0, 'Bag': 5, 'Henley': 0, 'Shoes': 0, 'Jumpsuit': 0, 'Skirt': 0, 'Pants': 1}\n"
     ]
    }
   ],
   "source": [
    "# load the data\n",
    "from urllib.parse import urlparse\n",
    "import requests, json, os, uuid\n",
    "\n",
    "db = []\n",
    "items = {}\n",
    "\n",
    "for ii in range(1,5):\n",
    "    f = open(f\"raw_data/men_output_{ii}.json\", 'r')\n",
    "    d = json.load(f)\n",
    "    for i in d:\n",
    "        i['id'] = str(uuid.uuid4())\n",
    "        i['gender'] = \"men\"\n",
    "        i['item']   = i['name'].split(\" \")[-1] \n",
    "        url         = i['image']\n",
    "\n",
    "        if i['item'] == \"Holder\": i['item'] = \"Wallet\"\n",
    "\n",
    "        try:\n",
    "            items[i['item']] += 1\n",
    "        except:\n",
    "            items[i['item']] = 0\n",
    "\n",
    "        filename = os.path.basename(urlparse(url).path)\n",
    "        if not filename.lower().endswith((\".jpg\", \".jpeg\", \".png\", \".webp\")):\n",
    "            filename += \".jpg\"\n",
    "        filepath = os.path.join(\"img\", filename)\n",
    "        if not os.path.exists(filepath):\n",
    "            pic = requests.get(url)\n",
    "            if not pic.status_code == 200:\n",
    "                i[\"status\"] = \"failure\"\n",
    "                print(\"FAILLL: \", i)\n",
    "                pic.raise_for_status()\n",
    "                continue\n",
    "\n",
    "        with open(filepath, \"wb\") as f:\n",
    "            f.write(pic.content)\n",
    "\n",
    "        i[\"path\"] = filepath\n",
    "        db.append(i)\n",
    "        continue\n",
    "\n",
    "# save temp DB\n",
    "save = open(\"men_db.json\", 'w')\n",
    "save.write(json.dumps(db))\n",
    "print(\"#### DONE ####\\n\\n\", items)"
   ]
  },
  {
   "cell_type": "code",
   "execution_count": 29,
   "metadata": {},
   "outputs": [
    {
     "name": "stdout",
     "output_type": "stream",
     "text": [
      "#### DONE ####\n",
      "\n",
      " {'Sneakers': 31, 'Dress': 37, 'T-shirt': 35, 'Top': 27, 'Trousers': 33, 'Minidress': 18, 'Hoodie': 4, 'Sweatshirt': 2, 'Bodysuit': 1, 'Tights': 2, 'Shorts': 15, 'Bra': 2, 'Briefs': 1, 'Blazer': 5, 'Thong': 0, 'Sweater': 11, 'Blouse': 7, 'Polo': 5, 'Jeans': 18, 'Miniskirt': 12, 'Skirt': 21, 'Skort': 2, 'Heels': 1, 'Flats': 15, 'Boots': 8, 'Mules': 4, 'Loafers': 3, 'Jacket': 18, 'Shirt': 16, 'Turtleneck': 5, 'Pants': 7, 'Pouch': 2, 'Coat': 13, 'Headband': 1, 'Cardigan': 13, 'Trousers.': 0, 'Camisole': 2, 'Bag': 15, 'Belt': 3, 'Tote': 5, 'Bracelet': 1, 'Choker': 0, 'Gloves': 0, 'Wallet': 1, 'Socks': 1, 'Pullover': 0, 'Balaclava': 2, 'Henley': 1, 'Vest': 1, 'Sandals': 0, 'Set': 0, 'Derbys': 1}\n"
     ]
    }
   ],
   "source": [
    "# load the data\n",
    "from urllib.parse import urlparse\n",
    "import requests, json, os\n",
    "import uuid\n",
    "\n",
    "db = []\n",
    "items = {}\n",
    "\n",
    "for ii in range(1,5):\n",
    "    f = open(f\"raw_data/women_output_{ii}.json\", 'r')\n",
    "    d = json.load(f)\n",
    "    for i in d:\n",
    "        i['id'] = str(uuid.uuid4())\n",
    "        i['gender'] = \"women\"\n",
    "        i['item']   = i['name'].split(\" \")[-1] \n",
    "        url         = i['image']\n",
    "\n",
    "        if i['item'] == \"Holder\": i['item'] = \"Wallet\"\n",
    "\n",
    "        try:\n",
    "            items[i['item']] += 1\n",
    "        except:\n",
    "            items[i['item']] = 0\n",
    "\n",
    "\n",
    "        filename = os.path.basename(urlparse(url).path)\n",
    "        if not filename.lower().endswith((\".jpg\", \".jpeg\", \".png\", \".webp\")):\n",
    "            filename += \".jpg\"\n",
    "        filepath = os.path.join(\"img\", filename)\n",
    "        if not os.path.exists(filepath):\n",
    "            pic = requests.get(url)\n",
    "            if not pic.status_code == 200:\n",
    "                i[\"status\"] = \"failure\"\n",
    "                print(\"FAILLL: \", i)\n",
    "                pic.raise_for_status()\n",
    "                continue\n",
    "\n",
    "        with open(filepath, \"wb\") as f:\n",
    "            f.write(pic.content)\n",
    "\n",
    "        i[\"path\"] = filepath\n",
    "        db.append(i)\n",
    "        continue\n",
    "\n",
    "# save temp DB\n",
    "save = open(\"women_db.json\", 'w')\n",
    "save.write(json.dumps(db))\n",
    "print(\"#### DONE ####\\n\\n\", items)"
   ]
  },
  {
   "cell_type": "code",
   "execution_count": 33,
   "metadata": {},
   "outputs": [
    {
     "data": {
      "text/plain": [
       "953364"
      ]
     },
     "execution_count": 33,
     "metadata": {},
     "output_type": "execute_result"
    }
   ],
   "source": [
    "# Combine them into one json!\n",
    "\n",
    "import json, os\n",
    "\n",
    "db = []\n",
    "m = open(f\"men_db.json\", 'r')\n",
    "w = open(f\"women_db.json\", 'r')\n",
    "m = json.load(m)\n",
    "w = json.load(w)\n",
    "\n",
    "db = m\n",
    "db.append(w)\n",
    "\n",
    "save = open(\"Final_db.json\", 'w')\n",
    "save.write(json.dumps(db))"
   ]
  }
 ],
 "metadata": {
  "kernelspec": {
   "display_name": "Python 3",
   "language": "python",
   "name": "python3"
  },
  "language_info": {
   "codemirror_mode": {
    "name": "ipython",
    "version": 3
   },
   "file_extension": ".py",
   "mimetype": "text/x-python",
   "name": "python",
   "nbconvert_exporter": "python",
   "pygments_lexer": "ipython3",
   "version": "3.13.3"
  }
 },
 "nbformat": 4,
 "nbformat_minor": 2
}
